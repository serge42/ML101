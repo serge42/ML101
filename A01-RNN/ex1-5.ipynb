{
 "cells": [
  {
   "cell_type": "code",
   "execution_count": 2,
   "metadata": {},
   "outputs": [],
   "source": [
    "import math\n",
    "import numpy as np"
   ]
  },
  {
   "cell_type": "code",
   "execution_count": 3,
   "metadata": {},
   "outputs": [],
   "source": [
    "rate = 0.002\n",
    "bias = 2\n",
    "x1 = np.array([6,3,6,4,1,5,3,10,3,4])\n",
    "x2 = np.array([4,1,10,2,5,3,3,3,4,6])\n",
    "x3 = np.array([1,7,9,4,10,7,4,3,9,6])\n",
    "t = np.array([1,1,1,1,1,1,-1,-1,-1,-1])\n",
    "w = np.array([-0.1,-0.3,0.2,bias])"
   ]
  },
  {
   "cell_type": "markdown",
   "metadata": {},
   "source": [
    "## Shall I normalize the inputs?"
   ]
  },
  {
   "cell_type": "code",
   "execution_count": 257,
   "metadata": {},
   "outputs": [
    {
     "name": "stdout",
     "output_type": "stream",
     "text": [
      "[[1.8921294  2.0281811  1.84858036 1.97327416 1.98932587 1.97570544\n",
      "  1.95951199 1.90629082 1.98729384 1.9123869 ]]\n"
     ]
    }
   ],
   "source": [
    "# normalized inputes\n",
    "x1n=x1/np.linalg.norm(x1)\n",
    "x2n=x2/np.linalg.norm(x2)\n",
    "x3n=x3/np.linalg.norm(x3)\n",
    "An = np.matrix([x1n,x2n,x3n,np.ones(10)]).transpose()\n",
    "y_n = An.dot(w)\n",
    "print(y_n)"
   ]
  },
  {
   "cell_type": "code",
   "execution_count": 262,
   "metadata": {},
   "outputs": [
    {
     "name": "stdout",
     "output_type": "stream",
     "text": [
      "[[0.4 2.8 0.2 1.8 2.4 2.  1.6 0.7 2.3 1. ]]\n"
     ]
    }
   ],
   "source": [
    "A = np.matrix([x1,x2,x3,np.ones(10)]).transpose()\n",
    "# print(A)\n",
    "y = A.dot(w)\n",
    "print(y)"
   ]
  },
  {
   "cell_type": "code",
   "execution_count": 259,
   "metadata": {},
   "outputs": [
    {
     "name": "stdout",
     "output_type": "stream",
     "text": [
      "[49.300000000000004, 41.10000000000001, 86.2]\n",
      "[-0.1986 -0.3822  0.0276  2.    ]\n"
     ]
    }
   ],
   "source": [
    "dEdwi = [np.sum(np.multiply((y-t), xi)) for xi in A[:,:-1].transpose()]\n",
    "print(dEdwi)\n",
    "w_new = [wi-rate*dEdwi[i] for i,wi in enumerate(w[:-1])]\n",
    "w_new.append(bias)\n",
    "w_new = np.array(w_new)\n",
    "print(w_new)"
   ]
  },
  {
   "cell_type": "code",
   "execution_count": 260,
   "metadata": {},
   "outputs": [
    {
     "name": "stdout",
     "output_type": "stream",
     "text": [
      "[5.105202676569057, 4.661580098524674, 4.8383804068359115]\n",
      "[-0.11021041 -0.30932316  0.19032324  2.        ]\n"
     ]
    }
   ],
   "source": [
    "# with normalized inputs\n",
    "dEdwi_n = [np.sum(np.multiply((y_n-t), xin)) for xin in An[:,:-1].transpose()]\n",
    "print(dEdwi_n)\n",
    "w_new_n = [wi-rate*dEdwi_n[i] for i,wi in enumerate(w[:-1])]\n",
    "w_new_n.append(bias)\n",
    "w_new_n = np.array(w_new_n)\n",
    "print(w_new_n)"
   ]
  },
  {
   "cell_type": "code",
   "execution_count": 261,
   "metadata": {},
   "outputs": [
    {
     "name": "stdout",
     "output_type": "stream",
     "text": [
      "[[-0.6928  1.2152 -2.7652  0.5516  0.1664  0.0536  0.368  -1.0498  0.1238\n",
      "  -0.922 ]]\n",
      "[[1.8853594  2.02241222 1.83438211 1.96763395 1.98095751 1.96741966\n",
      "  1.95388714 1.89666999 1.97873558 1.90333577]]\n"
     ]
    }
   ],
   "source": [
    "y_new = A.dot(w_new)\n",
    "print(y_new)\n",
    "y_new_n = An.dot(w_new_n)\n",
    "print(y_new_n)"
   ]
  },
  {
   "cell_type": "code",
   "execution_count": null,
   "metadata": {},
   "outputs": [],
   "source": []
  }
 ],
 "metadata": {
  "kernelspec": {
   "display_name": "Python 3",
   "language": "python",
   "name": "python3"
  },
  "language_info": {
   "codemirror_mode": {
    "name": "ipython",
    "version": 3
   },
   "file_extension": ".py",
   "mimetype": "text/x-python",
   "name": "python",
   "nbconvert_exporter": "python",
   "pygments_lexer": "ipython3",
   "version": "3.7.0"
  }
 },
 "nbformat": 4,
 "nbformat_minor": 2
}
