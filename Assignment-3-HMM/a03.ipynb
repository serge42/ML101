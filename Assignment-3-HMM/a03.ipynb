{
 "cells": [
  {
   "cell_type": "markdown",
   "metadata": {},
   "source": [
    "## Task 2\n",
    " Implement the Viterbi algorithm in a programming language of your choice (we recommend python). Please submit your code and the output files archived together with the latex report. The output files need to be in the same format as the given example output file.\n",
    "The HMM has three states S1, S2, S3, and four observations W, X, Y, Z. In the output files, the states are labeled only by the numbers 1, 2, 3"
   ]
  },
  {
   "cell_type": "code",
   "execution_count": 171,
   "metadata": {},
   "outputs": [],
   "source": [
    "import numpy as np\n",
    "import math"
   ]
  },
  {
   "cell_type": "markdown",
   "metadata": {},
   "source": [
    "### Point c\n",
    "Lets define a random starting P_t and use the first equation to updated it until it converges"
   ]
  },
  {
   "cell_type": "code",
   "execution_count": 23,
   "metadata": {},
   "outputs": [
    {
     "name": "stdout",
     "output_type": "stream",
     "text": [
      "[0.34 0.26 0.4 ]\n",
      "[0.316 0.26  0.424]\n",
      "[0.3256 0.2696 0.4048]\n",
      "[0.32368 0.26192 0.4144 ]\n",
      "[0.322912 0.26576  0.411328]\n",
      "[0.3239872 0.2645312 0.4114816]\n",
      "[0.32331136 0.26459264 0.412096  ]\n",
      "[0.32359398 0.2648384  0.41156762]\n",
      "[0.32353009 0.26462705 0.41184287]\n",
      "[0.32351337 0.26473715 0.41174948]\n",
      "[0.32354208 0.26469979 0.41175813]\n",
      "[0.32352313 0.26470325 0.41177362]\n",
      "[0.3235314  0.26470945 0.41175915]\n",
      "[0.32352933 0.26470366 0.41176701]\n",
      "[0.323529  0.2647068 0.4117642]\n",
      "[0.32352976 0.26470568 0.41176456]\n",
      "[0.32352923 0.26470582 0.41176494]\n",
      "[0.32352947 0.26470598 0.41176455]\n",
      "[0.32352941 0.26470582 0.41176477]\n",
      "[0.3235294  0.26470591 0.41176469]\n",
      "[0.32352942 0.26470588 0.4117647 ]\n",
      "[0.32352941 0.26470588 0.41176471]\n",
      "[0.32352941 0.26470588 0.4117647 ]\n",
      "[0.32352941 0.26470588 0.41176471]\n",
      "[0.32352941 0.26470588 0.41176471]\n",
      "[0.32352941 0.26470588 0.41176471]\n"
     ]
    }
   ],
   "source": [
    "Pt = np.array([0.3, 0.3, 0.4]);\n",
    "Ptold = np.array([0, 0, 0]);\n",
    "AT = np.transpose(A);\n",
    "epsilon = 1e-9;\n",
    "while(np.absolute(Ptold[0] - Pt[0]) > epsilon \n",
    "        or np.absolute(Ptold[1] - Pt[1]) > epsilon \n",
    "        or np.absolute(Ptold[2] - Pt[2]) > epsilon):\n",
    "    Ptold = Pt;\n",
    "    Pt = np.dot(AT, Ptold);\n",
    "    print(Pt)\n",
    "    \n"
   ]
  },
  {
   "cell_type": "markdown",
   "metadata": {},
   "source": [
    "### Point d\n",
    "implement Viterbi's algorithm using $Ps = Pt$ as initial probabilities\n",
    "\n",
    "$delta_1(i) = Pi(i)b_i(O_1)$"
   ]
  },
  {
   "cell_type": "code",
   "execution_count": 176,
   "metadata": {},
   "outputs": [],
   "source": [
    "possibleO=['W','X','Y','Z'];\n",
    "#some observation sequences are very long -> USE LOG!\n",
    "def viterbi(pi, obs):\n",
    "    nb_states=len(pi);\n",
    "    delta = np.zeros((len(obs), nb_states))\n",
    "    sequences = np.zeros((len(obs), nb_states)).astype(int)\n",
    "    id_o1 = possibleO.index(obs[0])\n",
    "    for i in range(nb_states):\n",
    "        # delta[0,i] = pi[i]*B[i,id_o1];\n",
    "        delta[0,i] = math.log(pi[i]) + math.log(B[i,id_o1]);\n",
    "        sequences[0,i] = i;\n",
    "    for t in range(1,len(obs)):\n",
    "        id_ot = possibleO.index(obs[t]);\n",
    "        for i in range(nb_states):\n",
    "            for j in range(nb_states):\n",
    "                # pij = delta[t-1,i]*A[i,j] * B[j,id_ot]\n",
    "                # pij = math.log(delta[t-1,i]) + math.log(A[i,j]) + math.log(B[j,id_ot])\n",
    "                pij = 0\n",
    "                if (delta[t-1,i] > 0): pij += math.log(delta[t-1,i])\n",
    "                if (A[i,j] > 0): pij += math.log(A[i,j])\n",
    "                if (B[j,id_ot] > 0): pij += math.log(B[j,id_ot])\n",
    "                if (pij > delta[t,j]): \n",
    "                    delta[t,j] = pij\n",
    "                    sequences[t,j] = i;\n",
    "    print(delta)\n",
    "    #print(sequences)\n",
    "    sequence = list()\n",
    "    sequence.append(np.argmax(delta[len(obs)-1]))\n",
    "    for i in range(1, len(obs)):\n",
    "        id_t = len(obs)-i\n",
    "        sequence.append(sequences[id_t, sequence[i-1]])\n",
    "    sequence.reverse()\n",
    "    return sequence"
   ]
  },
  {
   "cell_type": "code",
   "execution_count": 180,
   "metadata": {},
   "outputs": [
    {
     "name": "stdout",
     "output_type": "stream",
     "text": [
      "[[0.6 0.1 0.2 0.1]\n",
      " [0.1 0.7 0.1 0.1]\n",
      " [0.2 0.  0.5 0.3]]\n",
      "[[-1.63929088 -3.63172105 -2.4967411 ]\n",
      " [ 0.          0.          0.        ]\n",
      " [ 0.          0.          0.        ]\n",
      " [ 0.          0.          0.        ]\n",
      " [ 0.          0.          0.        ]\n",
      " [ 0.          0.          0.        ]\n",
      " [ 0.          0.          0.        ]\n",
      " [ 0.          0.          0.        ]\n",
      " [ 0.          0.          0.        ]\n",
      " [ 0.          0.          0.        ]\n",
      " [ 0.          0.          0.        ]\n",
      " [ 0.          0.          0.        ]\n",
      " [ 0.          0.          0.        ]\n",
      " [ 0.          0.          0.        ]\n",
      " [ 0.          0.          0.        ]\n",
      " [ 0.          0.          0.        ]\n",
      " [ 0.          0.          0.        ]\n",
      " [ 0.          0.          0.        ]\n",
      " [ 0.          0.          0.        ]\n",
      " [ 0.          0.          0.        ]\n",
      " [ 0.          0.          0.        ]\n",
      " [ 0.          0.          0.        ]\n",
      " [ 0.          0.          0.        ]\n",
      " [ 0.          0.          0.        ]\n",
      " [ 0.          0.          0.        ]]\n"
     ]
    },
    {
     "ename": "ValueError",
     "evalue": "math domain error",
     "output_type": "error",
     "traceback": [
      "\u001b[0;31m---------------------------------------------------------------------------\u001b[0m",
      "\u001b[0;31mValueError\u001b[0m                                Traceback (most recent call last)",
      "\u001b[0;32m<ipython-input-180-c9ef6c68fd63>\u001b[0m in \u001b[0;36m<module>\u001b[0;34m()\u001b[0m\n\u001b[1;32m      6\u001b[0m \u001b[0mres\u001b[0m\u001b[0;34m=\u001b[0m\u001b[0mviterbi\u001b[0m\u001b[0;34m(\u001b[0m\u001b[0mpi\u001b[0m\u001b[0;34m,\u001b[0m \u001b[0mobs\u001b[0m\u001b[0;34m)\u001b[0m\u001b[0;34m\u001b[0m\u001b[0m\n\u001b[1;32m      7\u001b[0m \u001b[0mres_str\u001b[0m \u001b[0;34m=\u001b[0m \u001b[0;34m''\u001b[0m\u001b[0;34m.\u001b[0m\u001b[0mjoin\u001b[0m\u001b[0;34m(\u001b[0m\u001b[0;34m[\u001b[0m\u001b[0mstr\u001b[0m\u001b[0;34m(\u001b[0m\u001b[0ma\u001b[0m\u001b[0;34m)\u001b[0m \u001b[0;32mfor\u001b[0m \u001b[0ma\u001b[0m \u001b[0;32min\u001b[0m \u001b[0mres\u001b[0m\u001b[0;34m]\u001b[0m\u001b[0;34m)\u001b[0m\u001b[0;34m\u001b[0m\u001b[0m\n\u001b[0;32m----> 8\u001b[0;31m \u001b[0mprint\u001b[0m\u001b[0;34m(\u001b[0m\u001b[0mmath\u001b[0m\u001b[0;34m.\u001b[0m\u001b[0mlog\u001b[0m\u001b[0;34m(\u001b[0m\u001b[0;34m-\u001b[0m\u001b[0;36m1\u001b[0m\u001b[0;34m)\u001b[0m\u001b[0;34m)\u001b[0m\u001b[0;34m\u001b[0m\u001b[0m\n\u001b[0m",
      "\u001b[0;31mValueError\u001b[0m: math domain error"
     ]
    }
   ],
   "source": [
    "A = np.array([[0,0.1,0.9], [0.6,0.1,0.3], [0.4,0.5,0.1]])\n",
    "B = np.array([[0.6,0.1,0.2,0.1],[0.1,0.7,0.1,0.1],[0.2,0,0.5,0.3]])\n",
    "print(B)\n",
    "pi = np.array([0.32352941, 0.26470588, 0.41176471]);\n",
    "obs = list('WWXXWZWXWYYXXYXYWZXWZZWYZ')\n",
    "res=viterbi(pi, obs)\n",
    "res_str = ''.join([str(a) for a in res])\n",
    "print(math.log(-1))"
   ]
  },
  {
   "cell_type": "code",
   "execution_count": 174,
   "metadata": {},
   "outputs": [
    {
     "ename": "ValueError",
     "evalue": "math domain error",
     "output_type": "error",
     "traceback": [
      "\u001b[0;31m---------------------------------------------------------------------------\u001b[0m",
      "\u001b[0;31mValueError\u001b[0m                                Traceback (most recent call last)",
      "\u001b[0;32m<ipython-input-174-0ed9203ec651>\u001b[0m in \u001b[0;36m<module>\u001b[0;34m()\u001b[0m\n\u001b[0;32m----> 1\u001b[0;31m \u001b[0mprint\u001b[0m\u001b[0;34m(\u001b[0m\u001b[0mmath\u001b[0m\u001b[0;34m.\u001b[0m\u001b[0mlog\u001b[0m\u001b[0;34m(\u001b[0m\u001b[0;36m0\u001b[0m\u001b[0;34m)\u001b[0m\u001b[0;34m)\u001b[0m\u001b[0;34m\u001b[0m\u001b[0m\n\u001b[0m",
      "\u001b[0;31mValueError\u001b[0m: math domain error"
     ]
    }
   ],
   "source": []
  },
  {
   "cell_type": "code",
   "execution_count": null,
   "metadata": {},
   "outputs": [],
   "source": []
  }
 ],
 "metadata": {
  "kernelspec": {
   "display_name": "Python 3",
   "language": "python",
   "name": "python3"
  },
  "language_info": {
   "codemirror_mode": {
    "name": "ipython",
    "version": 3
   },
   "file_extension": ".py",
   "mimetype": "text/x-python",
   "name": "python",
   "nbconvert_exporter": "python",
   "pygments_lexer": "ipython3",
   "version": "3.7.0"
  }
 },
 "nbformat": 4,
 "nbformat_minor": 2
}
